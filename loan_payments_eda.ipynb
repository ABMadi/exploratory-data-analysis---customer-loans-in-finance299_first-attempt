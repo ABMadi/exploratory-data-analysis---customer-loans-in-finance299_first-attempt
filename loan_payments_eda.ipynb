{
 "cells": [
  {
   "cell_type": "code",
   "execution_count": null,
   "metadata": {},
   "outputs": [],
   "source": [
    "# Import the necessary classes\n",
    "from db_utils import RDSDatabaseConnector, DataTransform\n",
    "\n",
    "# Initialize the database connector and fetch data\n",
    "connector = RDSDatabaseConnector(credentials)\n",
    "engine = connector.create_engine()\n",
    "df = connector.extract_data(engine)\n",
    "\n",
    "# Apply data transformations\n",
    "transformer = DataTransform(df)\n",
    "df_transformed = transformer.apply_transformations()\n",
    "\n",
    "# Display the first few rows of the cleaned data\n",
    "df_transformed.head()\n"
   ]
  }
 ],
 "metadata": {
  "language_info": {
   "name": "python"
  }
 },
 "nbformat": 4,
 "nbformat_minor": 2
}
